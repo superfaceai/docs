{
  "cells": [
    {
      "cell_type": "markdown",
      "metadata": {
        "id": "r5aoAUUlEnhy"
      },
      "source": [
        "# Superface Agent Hub - MistralAI Function Calling Example\n",
        "\n",
        "In this notebook we demonstrate how to use the Superface Agent Hub to connect your MistralAI powered agent to external tools and APIs in a way that allows for both personal and third-party use."
      ]
    },
    {
      "cell_type": "code",
      "execution_count": null,
      "metadata": {
        "colab": {
          "base_uri": "https://localhost:8080/"
        },
        "id": "B154sdXTdhoX",
        "outputId": "3d846417-5a0b-43a9-ed12-849017fc5d30"
      },
      "outputs": [
        {
          "name": "stdout",
          "output_type": "stream",
          "text": [
            "\u001b[2K     \u001b[90m━━━━━━━━━━━━━━━━━━━━━━━━━━━━━━━━━━━━━━━━\u001b[0m \u001b[32m75.0/75.0 kB\u001b[0m \u001b[31m2.1 MB/s\u001b[0m eta \u001b[36m0:00:00\u001b[0m\n",
            "\u001b[2K     \u001b[90m━━━━━━━━━━━━━━━━━━━━━━━━━━━━━━━━━━━━━━━━\u001b[0m \u001b[32m138.5/138.5 kB\u001b[0m \u001b[31m2.1 MB/s\u001b[0m eta \u001b[36m0:00:00\u001b[0m\n",
            "\u001b[2K     \u001b[90m━━━━━━━━━━━━━━━━━━━━━━━━━━━━━━━━━━━━━━━━\u001b[0m \u001b[32m77.8/77.8 kB\u001b[0m \u001b[31m3.9 MB/s\u001b[0m eta \u001b[36m0:00:00\u001b[0m\n",
            "\u001b[2K     \u001b[90m━━━━━━━━━━━━━━━━━━━━━━━━━━━━━━━━━━━━━━━━\u001b[0m \u001b[32m58.3/58.3 kB\u001b[0m \u001b[31m5.0 MB/s\u001b[0m eta \u001b[36m0:00:00\u001b[0m\n",
            "\u001b[?25h"
          ]
        }
      ],
      "source": [
        "%pip install pandas \"mistralai>=0.1.2\" --quiet"
      ]
    },
    {
      "cell_type": "code",
      "execution_count": null,
      "metadata": {
        "id": "d5kgBfH2b55h"
      },
      "outputs": [],
      "source": [
        "import json\n",
        "import random\n",
        "import requests as r\n",
        "from mistralai.client import MistralClient\n",
        "from mistralai.models.chat_completion import ChatMessage\n",
        "from IPython.display import display, Markdown\n",
        "\n",
        "# Set a random number of your choice, but don't change it\n",
        "# once you have run the notebook, otherwise you will create another user.\n",
        "SUPERFACE_USER_ID_CONSTANT = 123456789\n",
        "\n",
        "# Use the number to create a unique ID\n",
        "SUPERFACE_USER_ID = \"sfoaidemo|\" + str(SUPERFACE_USER_ID_CONSTANT)\n",
        "\n",
        "# Default URL for Superface\n",
        "SUPERFACE_BASE_URL = \"https://pod.superface.ai/api/hub\"\n",
        "\n",
        "# Set the Superface authentication token\n",
        "SUPERFACE_AUTH_TOKEN=\"<your-superface-auth-token>\"\n",
        "\n",
        "# Mistral API Key\n",
        "MISTRAL_API_KEY = \"<your-mistral-api-key>\"\n",
        "\n",
        "messages = []"
      ]
    },
    {
      "cell_type": "code",
      "execution_count": null,
      "metadata": {},
      "outputs": [],
      "source": [
        "# Setup MistralAI\n",
        "model = \"mistral-large-latest\"\n",
        "client = MistralClient(api_key=\"MISTRAL_API_KEY\")"
      ]
    },
    {
      "cell_type": "code",
      "execution_count": null,
      "metadata": {
        "id": "dNtjQSYgEktu"
      },
      "outputs": [],
      "source": [
        "# Define the helper functions used to get and perform functions\n",
        "\n",
        "def get_superface_tools():\n",
        "  headers = {\"Authorization\": \"Bearer \"+ SUPERFACE_AUTH_TOKEN}\n",
        "  tools = r.get(SUPERFACE_BASE_URL + \"/fd\", headers=headers)\n",
        "  return tools.json()\n",
        "\n",
        "# Helper function to perform the action for all the functions.\n",
        "# This is the only API call required regardless of what the function is.\n",
        "def perform_action(tool_name=None, tool_body=None):\n",
        "  headers = {\"Authorization\": \"Bearer \"+ SUPERFACE_AUTH_TOKEN, \"x-superface-user-id\": SUPERFACE_USER_ID}\n",
        "  perform_result = r.post(SUPERFACE_BASE_URL + \"/perform/\" + tool_name, headers=headers, json=tool_body)\n",
        "  return json.dumps(perform_result.json())"
      ]
    },
    {
      "cell_type": "code",
      "execution_count": null,
      "metadata": {
        "id": "AarnYwkJhQFs"
      },
      "outputs": [],
      "source": [
        "prompt = \"What is the weather in Prague?\" # @param {type:\"string\"}\n",
        "\n",
        "messages = [\n",
        "    ChatMessage(role=\"user\", content=prompt)\n",
        "]\n"
      ]
    },
    {
      "cell_type": "code",
      "execution_count": null,
      "metadata": {
        "colab": {
          "base_uri": "https://localhost:8080/"
        },
        "id": "mjaSrj0BhneA",
        "outputId": "f13a9772-1c5b-4bcc-eb97-1042a1ee3246"
      },
      "outputs": [
        {
          "data": {
            "text/plain": [
              "ChatCompletionResponse(id='7253f94922b04f1cbca70aad050868ac', object='chat.completion', created=1711469166, model='mistral-large-latest', choices=[ChatCompletionResponseChoice(index=0, message=ChatMessage(role='assistant', content='', name=None, tool_calls=[ToolCall(id='null', type=<ToolType.function: 'function'>, function=FunctionCall(name='weather__current-weather__CurrentWeather', arguments='{\"city\": \"Prague, Czech Republic\"}'))]), finish_reason=<FinishReason.tool_calls: 'tool_calls'>)], usage=UsageInfo(prompt_tokens=4201, total_tokens=4234, completion_tokens=33))"
            ]
          },
          "execution_count": 6,
          "metadata": {},
          "output_type": "execute_result"
        }
      ],
      "source": [
        "response = client.chat(\n",
        "    model=model,\n",
        "    messages=messages,\n",
        "    tools=get_superface_tools(),\n",
        "    tool_choice=\"auto\"\n",
        ")\n",
        "\n",
        "response"
      ]
    },
    {
      "cell_type": "code",
      "execution_count": null,
      "metadata": {
        "id": "beGN1uWbwHF8"
      },
      "outputs": [],
      "source": [
        "messages.append(response.choices[0].message)"
      ]
    },
    {
      "cell_type": "code",
      "execution_count": null,
      "metadata": {
        "colab": {
          "base_uri": "https://localhost:8080/"
        },
        "id": "72EBIb8KidnB",
        "outputId": "5e3dcf01-4cbe-470a-f180-ae639fe080fe"
      },
      "outputs": [
        {
          "data": {
            "text/plain": [
              "[ChatMessage(role='user', content='What is the weather in Prague?', name=None, tool_calls=None),\n",
              " ChatMessage(role='assistant', content='', name=None, tool_calls=[ToolCall(id='null', type=<ToolType.function: 'function'>, function=FunctionCall(name='weather__current-weather__CurrentWeather', arguments='{\"city\": \"Prague, Czech Republic\"}'))]),\n",
              " ChatMessage(role='tool', content='{\"status\": \"success\", \"assistant_hint\": \"Format the result in \\'result\\' field to the user. If the user asked for a specific format, respect it\", \"result\": {\"description\": \"Sunny\", \"feelsLike\": 13, \"temperature\": 13}}', name='weather__current-weather__CurrentWeather', tool_calls=None)]"
            ]
          },
          "execution_count": 8,
          "metadata": {},
          "output_type": "execute_result"
        }
      ],
      "source": [
        "# Extract tool intents and params from the assistant response\n",
        "tool_call = response.choices[0].message.tool_calls[0]\n",
        "function_name = tool_call.function.name\n",
        "function_params = json.loads(tool_call.function.arguments)\n",
        "\n",
        "# Pass the function name and arguments to Superface\n",
        "run_function = perform_action(function_name, function_params)\n",
        "\n",
        "messages.append(ChatMessage(role=\"tool\", name=function_name, content=run_function))\n",
        "messages"
      ]
    },
    {
      "cell_type": "code",
      "execution_count": null,
      "metadata": {
        "colab": {
          "base_uri": "https://localhost:8080/",
          "height": 46
        },
        "id": "EDrcb3uyjdWr",
        "outputId": "e8b1750e-6145-4841-cc95-def1acb8e5ef"
      },
      "outputs": [
        {
          "data": {
            "text/markdown": [
              "The current weather in Prague, Czech Republic is sunny with a temperature of 13°C. It feels like 13°C."
            ],
            "text/plain": [
              "<IPython.core.display.Markdown object>"
            ]
          },
          "metadata": {},
          "output_type": "display_data"
        }
      ],
      "source": [
        "response = client.chat(\n",
        "  model=model,\n",
        "  messages=messages\n",
        ")\n",
        "\n",
        "display(Markdown(response.choices[0].message.content))"
      ]
    }
  ],
  "metadata": {
    "colab": {
      "provenance": []
    },
    "kernelspec": {
      "display_name": "Python 3",
      "name": "python3"
    },
    "language_info": {
      "name": "python"
    }
  },
  "nbformat": 4,
  "nbformat_minor": 0
}
